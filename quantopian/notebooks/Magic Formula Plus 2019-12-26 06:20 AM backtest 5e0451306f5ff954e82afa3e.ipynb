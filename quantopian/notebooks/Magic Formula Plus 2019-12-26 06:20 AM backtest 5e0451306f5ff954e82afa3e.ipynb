{
 "cells": [
  {
   "cell_type": "markdown",
   "metadata": {},
   "source": [
    "Run the cell below to create your tear sheet."
   ]
  },
  {
   "cell_type": "code",
   "execution_count": null,
   "metadata": {},
   "outputs": [],
   "source": [
    "bt = get_backtest('5e0451306f5ff954e82afa3e')\n",
    "bt.create_full_tear_sheet()"
   ]
  }
 ],
 "metadata": {
  "from_backtest": "5e0451306f5ff954e82afa3e",
  "kernelspec": {
   "display_name": "Python 3.5",
   "language": "python",
   "name": "py35"
  }
 },
 "nbformat": 4,
 "nbformat_minor": 2
}
